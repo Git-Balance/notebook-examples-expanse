{
 "cells": [
  {
   "cell_type": "markdown",
   "metadata": {},
   "source": [
    "# Hello World\n",
    "\n",
    "## FileName:  hello_world_cpu.ipynb\n",
    "\n",
    "## CPU Version\n",
    "\n",
    "No package dependencies"
   ]
  },
  {
   "cell_type": "markdown",
   "metadata": {},
   "source": [
    "### Test Python"
   ]
  },
  {
   "cell_type": "code",
   "execution_count": 1,
   "metadata": {},
   "outputs": [
    {
     "name": "stdout",
     "output_type": "stream",
     "text": [
      "Hello world!!!!\n"
     ]
    }
   ],
   "source": [
    "print('Hello world!!!!')"
   ]
  },
  {
   "cell_type": "code",
   "execution_count": 2,
   "metadata": {},
   "outputs": [],
   "source": [
    "# Import hello module\n",
    "import hello\n",
    "\n",
    "# Define a local function\n",
    "def world2(name):\n",
    "    print(name)"
   ]
  },
  {
   "cell_type": "code",
   "execution_count": 3,
   "metadata": {},
   "outputs": [
    {
     "name": "stdout",
     "output_type": "stream",
     "text": [
      "mary\n"
     ]
    }
   ],
   "source": [
    "# Call function\n",
    "world2(\"mary\") "
   ]
  },
  {
   "cell_type": "code",
   "execution_count": 4,
   "metadata": {},
   "outputs": [
    {
     "name": "stdout",
     "output_type": "stream",
     "text": [
      "Greetings, good times\n"
     ]
    }
   ],
   "source": [
    "hello.greeting(\"good times\")"
   ]
  },
  {
   "cell_type": "code",
   "execution_count": 5,
   "metadata": {},
   "outputs": [
    {
     "name": "stdout",
     "output_type": "stream",
     "text": [
      "Hello, World.\n"
     ]
    }
   ],
   "source": [
    "hello.world(\"World.\")"
   ]
  },
  {
   "cell_type": "markdown",
   "metadata": {},
   "source": [
    "### Test Hardware"
   ]
  },
  {
   "cell_type": "code",
   "execution_count": 6,
   "metadata": {},
   "outputs": [],
   "source": [
    "## Print out host information"
   ]
  },
  {
   "cell_type": "code",
   "execution_count": 7,
   "metadata": {},
   "outputs": [
    {
     "name": "stdout",
     "output_type": "stream",
     "text": [
      "archlinux\n"
     ]
    }
   ],
   "source": [
    "!hostname"
   ]
  },
  {
   "cell_type": "code",
   "execution_count": 8,
   "metadata": {},
   "outputs": [
    {
     "name": "stdout",
     "output_type": "stream",
     "text": [
      "Architecture:             x86_64\n",
      "  CPU op-mode(s):         32-bit, 64-bit\n",
      "  Address sizes:          39 bits physical, 48 bits virtual\n",
      "  Byte Order:             Little Endian\n",
      "CPU(s):                   4\n",
      "  On-line CPU(s) list:    0-3\n",
      "Vendor ID:                GenuineIntel\n",
      "  Model name:             11th Gen Intel(R) Core(TM) i3-1115G4 @ 3.00GHz\n",
      "    CPU family:           6\n",
      "    Model:                140\n",
      "    Thread(s) per core:   2\n",
      "    Core(s) per socket:   2\n",
      "    Socket(s):            1\n",
      "    Stepping:             1\n",
      "    CPU(s) scaling MHz:   32%\n",
      "    CPU max MHz:          4100.0000\n",
      "    CPU min MHz:          400.0000\n",
      "    BogoMIPS:             5992.00\n",
      "    Flags:                fpu vme de pse tsc msr pae mce cx8 apic sep mtrr pge m\n",
      "                          ca cmov pat pse36 clflush dts acpi mmx fxsr sse sse2 s\n",
      "                          s ht tm pbe syscall nx pdpe1gb rdtscp lm constant_tsc \n",
      "                          art arch_perfmon pebs bts rep_good nopl xtopology nons\n",
      "                          top_tsc cpuid aperfmperf tsc_known_freq pni pclmulqdq \n",
      "                          dtes64 monitor ds_cpl vmx est tm2 ssse3 sdbg fma cx16 \n",
      "                          xtpr pdcm pcid sse4_1 sse4_2 x2apic movbe popcnt tsc_d\n",
      "                          eadline_timer aes xsave avx f16c rdrand lahf_lm abm 3d\n",
      "                          nowprefetch cpuid_fault epb cat_l2 cdp_l2 ssbd ibrs ib\n",
      "                          pb stibp ibrs_enhanced tpr_shadow flexpriority ept vpi\n",
      "                          d ept_ad fsgsbase tsc_adjust bmi1 avx2 smep bmi2 erms \n",
      "                          invpcid rdt_a avx512f avx512dq rdseed adx smap avx512i\n",
      "                          fma clflushopt clwb intel_pt avx512cd sha_ni avx512bw \n",
      "                          avx512vl xsaveopt xsavec xgetbv1 xsaves split_lock_det\n",
      "                          ect user_shstk dtherm ida arat pln pts hwp hwp_notify \n",
      "                          hwp_act_window hwp_epp hwp_pkg_req vnmi avx512vbmi umi\n",
      "                          p pku ospke avx512_vbmi2 gfni vaes vpclmulqdq avx512_v\n",
      "                          nni avx512_bitalg avx512_vpopcntdq rdpid movdiri movdi\n",
      "                          r64b fsrm avx512_vp2intersect md_clear ibt flush_l1d a\n",
      "                          rch_capabilities\n",
      "Virtualization features:  \n",
      "  Virtualization:         VT-x\n",
      "Caches (sum of all):      \n",
      "  L1d:                    96 KiB (2 instances)\n",
      "  L1i:                    64 KiB (2 instances)\n",
      "  L2:                     2.5 MiB (2 instances)\n",
      "  L3:                     6 MiB (1 instance)\n",
      "NUMA:                     \n",
      "  NUMA node(s):           1\n",
      "  NUMA node0 CPU(s):      0-3\n",
      "Vulnerabilities:          \n",
      "  Gather data sampling:   Mitigation; Microcode\n",
      "  Itlb multihit:          Not affected\n",
      "  L1tf:                   Not affected\n",
      "  Mds:                    Not affected\n",
      "  Meltdown:               Not affected\n",
      "  Mmio stale data:        Not affected\n",
      "  Reg file data sampling: Not affected\n",
      "  Retbleed:               Not affected\n",
      "  Spec rstack overflow:   Not affected\n",
      "  Spec store bypass:      Mitigation; Speculative Store Bypass disabled via prct\n",
      "                          l\n",
      "  Spectre v1:             Mitigation; usercopy/swapgs barriers and __user pointe\n",
      "                          r sanitization\n",
      "  Spectre v2:             Mitigation; Enhanced / Automatic IBRS; IBPB conditiona\n",
      "                          l; RSB filling; PBRSB-eIBRS SW sequence; BHI SW loop, \n",
      "                          KVM SW loop\n",
      "  Srbds:                  Not affected\n",
      "  Tsx async abort:        Not affected\n"
     ]
    }
   ],
   "source": [
    "## check the CPU information\n",
    "!lscpu "
   ]
  }
 ],
 "metadata": {
  "kernelspec": {
   "display_name": "Python 3 (ipykernel)",
   "language": "python",
   "name": "python3"
  },
  "language_info": {
   "codemirror_mode": {
    "name": "ipython",
    "version": 3
   },
   "file_extension": ".py",
   "mimetype": "text/x-python",
   "name": "python",
   "nbconvert_exporter": "python",
   "pygments_lexer": "ipython3",
   "version": "3.12.4"
  }
 },
 "nbformat": 4,
 "nbformat_minor": 4
}
